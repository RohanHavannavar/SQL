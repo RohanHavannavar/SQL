{
 "cells": [
  {
   "cell_type": "code",
   "execution_count": 1,
   "metadata": {},
   "outputs": [],
   "source": [
    "#importing essential libraries\n",
    "#we will be using sqlalchemy to connect to mysql database\n",
    "import pandas as pd\n",
    "from sqlalchemy import create_engine\n",
    "import pymysql\n",
    "import numpy as np"
   ]
  },
  {
   "cell_type": "code",
   "execution_count": 2,
   "metadata": {},
   "outputs": [],
   "source": [
    "#setting the values required for connecting to mysql database\n",
    "host_name = 'localhost'\n",
    "database_name = 'hotels'\n",
    "user_name = 'root'\n",
    "user_password = 'give your password'\n",
    "port_num = 3306"
   ]
  },
  {
   "cell_type": "code",
   "execution_count": 3,
   "metadata": {},
   "outputs": [],
   "source": [
    "#connecting to the database using above credentials through sqlalchemy create_engine method\n",
    "conn = create_engine('mysql+pymysql://{0}:{1}@{2}:{3}/{4}'. \\\n",
    "                   format(user_name, user_password,host_name,port_num,database_name))"
   ]
  },
  {
   "cell_type": "code",
   "execution_count": 16,
   "metadata": {},
   "outputs": [],
   "source": [
    "#converting the excel sheets to pandas dataframe\n",
    "df_restaurant = pd.read_excel('PBI_Restaurant_in_India.xlsx',sheet_name = 'Restaurant')\n",
    "df_location = pd.read_excel('PBI_Restaurant_in_India.xlsx',sheet_name = 'Location')\n",
    "df_factors = pd.read_excel('PBI_Restaurant_in_India.xlsx',sheet_name = 'Factors')"
   ]
  },
  {
   "cell_type": "code",
   "execution_count": 17,
   "metadata": {},
   "outputs": [],
   "source": [
    "#pushing the dataframe created above to staging tables in mysql database\n",
    "df_restaurant.to_sql(name = 'restaurant_stage',con = conn,if_exists = 'append',index = False)\n",
    "df_location.to_sql(name = 'location_stage',con = conn,if_exists = 'append',index = False)\n",
    "df_factors.to_sql(name = 'factors_stage',con = conn,if_exists = 'append',index = False)\n"
   ]
  }
 ],
 "metadata": {
  "kernelspec": {
   "display_name": "Python 3",
   "language": "python",
   "name": "python3"
  },
  "language_info": {
   "codemirror_mode": {
    "name": "ipython",
    "version": 3
   },
   "file_extension": ".py",
   "mimetype": "text/x-python",
   "name": "python",
   "nbconvert_exporter": "python",
   "pygments_lexer": "ipython3",
   "version": "3.7.6"
  }
 },
 "nbformat": 4,
 "nbformat_minor": 4
}
