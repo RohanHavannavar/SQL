{
 "cells": [
  {
   "cell_type": "markdown",
   "metadata": {},
   "source": [
    "### Creating Connection to Postgres database and performing CRUD Operations"
   ]
  },
  {
   "cell_type": "code",
   "execution_count": 9,
   "metadata": {},
   "outputs": [],
   "source": [
    "import psycopg2"
   ]
  },
  {
   "cell_type": "code",
   "execution_count": 10,
   "metadata": {},
   "outputs": [],
   "source": [
    "try:\n",
    "    conn = psycopg2.connect('host = 127.0.0.1 dbname=studentdb user=postgres password=enter_your_password')\n",
    "except psycop2.Error as e:\n",
    "    print(\"error in connecting to database\")\n",
    "\n",
    "try:\n",
    "    curr = conn.cursor()\n",
    "except psycop2.Error as e:\n",
    "    print(\"error in creating cursor\")"
   ]
  },
  {
   "cell_type": "code",
   "execution_count": 11,
   "metadata": {},
   "outputs": [],
   "source": [
    "conn.set_session(autocommit = True)"
   ]
  },
  {
   "cell_type": "code",
   "execution_count": 12,
   "metadata": {},
   "outputs": [],
   "source": [
    "#creating the tables\n",
    "try:\n",
    "    curr.execute(\"create table if not exists music_library(album_id int,\\\n",
    "                                                            album_name varchar(100),\\\n",
    "                                                            artist_name varchar(100),\\\n",
    "                                                             year int,\\\n",
    "                                                              songs text[]);\")\n",
    "except psycopg2.Error as e:\n",
    "    print(\"error in creating the table\")\n",
    "    print(e)\n",
    "    \n",
    "\n",
    "#inserting the values\n",
    "try:\n",
    "    curr.execute(\"insert into music_library(album_id,album_name,artist_name,year,songs)\\\n",
    "                  values (%s,%s,%s,%s,%s)\",\\\n",
    "                (1,\"Rubber Soul\",\"The Beatles\",1965,[\"Michelle\",\"Think for yourself\",\"In My Life\"]))\n",
    "except psycopg2.Error as e:\n",
    "    print(\"Error in inserting rows\")\n",
    "    print(e)\n",
    "    \n",
    "    \n",
    "try:\n",
    "    curr.execute(\"insert into music_library(album_id,album_name,artist_name,year,songs)\\\n",
    "                  values (%s,%s,%s,%s,%s)\",\\\n",
    "                (2,\"Let It be\",\"The Beatles\",1970,[\"Let It Be\",\"Across The Universe\"]))\n",
    "except psycopg2.Error as e:\n",
    "    print(\"Error in inserting rows\")\n",
    "    print(e)\n",
    "    \n",
    "\n",
    "#display the results\n",
    "try:\n",
    "    curr.execute(\"select * from music_library\")\n",
    "except psycopg2.Error as e:\n",
    "    print(\"error in displaying the table\")\n",
    "    print(e)\n",
    "    \n",
    "\n",
    "    "
   ]
  },
  {
   "cell_type": "code",
   "execution_count": 13,
   "metadata": {},
   "outputs": [],
   "source": [
    "try:\n",
    "    curr.execute(\"select * from music_library\")\n",
    "except psycopg2.Error as e:\n",
    "    print(\"error in displaying the table\")\n",
    "    print(e)\n",
    "    "
   ]
  },
  {
   "cell_type": "code",
   "execution_count": 14,
   "metadata": {},
   "outputs": [
    {
     "data": {
      "text/plain": [
       "[(1,\n",
       "  'Rubber Soul',\n",
       "  'The Beatles',\n",
       "  1965,\n",
       "  ['Michelle', 'Think for yourself', 'In My Life']),\n",
       " (2, 'Let It be', 'The Beatles', 1970, ['Let It Be', 'Across The Universe'])]"
      ]
     },
     "execution_count": 14,
     "metadata": {},
     "output_type": "execute_result"
    }
   ],
   "source": [
    "curr.fetchall()"
   ]
  },
  {
   "cell_type": "code",
   "execution_count": 15,
   "metadata": {},
   "outputs": [],
   "source": [
    "#updating the tables\n",
    "try:\n",
    "    curr.execute(\"update music_library set year = 1978 where album_id = 1\")\n",
    "except psycopg2.Error as e:\n",
    "    print(\"error in updating the table\")\n",
    "    print(e)\n",
    "    "
   ]
  },
  {
   "cell_type": "code",
   "execution_count": 17,
   "metadata": {},
   "outputs": [
    {
     "data": {
      "text/plain": [
       "[(2, 'Let It be', 'The Beatles', 1970, ['Let It Be', 'Across The Universe']),\n",
       " (1,\n",
       "  'Rubber Soul',\n",
       "  'The Beatles',\n",
       "  1978,\n",
       "  ['Michelle', 'Think for yourself', 'In My Life'])]"
      ]
     },
     "execution_count": 17,
     "metadata": {},
     "output_type": "execute_result"
    }
   ],
   "source": [
    "#displaying the results to see the updated value\n",
    "try:\n",
    "    curr.execute(\"select * from music_library\")\n",
    "except psycopg2.Error as e:\n",
    "    print(\"error in displaying the table\")\n",
    "    print(e)\n",
    "    \n",
    "curr.fetchall()"
   ]
  },
  {
   "cell_type": "code",
   "execution_count": 19,
   "metadata": {},
   "outputs": [],
   "source": [
    "#delete\n",
    "try:\n",
    "    curr.execute(\"delete from music_library where album_id = 1\")\n",
    "except psycopg2.Error as e:\n",
    "    print(\"error in deleting  the table\")\n",
    "    print(e)"
   ]
  },
  {
   "cell_type": "code",
   "execution_count": 20,
   "metadata": {},
   "outputs": [
    {
     "data": {
      "text/plain": [
       "[(2, 'Let It be', 'The Beatles', 1970, ['Let It Be', 'Across The Universe'])]"
      ]
     },
     "execution_count": 20,
     "metadata": {},
     "output_type": "execute_result"
    }
   ],
   "source": [
    "#displaying the results to see the updated value\n",
    "try:\n",
    "    curr.execute(\"select * from music_library\")\n",
    "except psycopg2.Error as e:\n",
    "    print(\"error in displaying the table\")\n",
    "    print(e)\n",
    "    \n",
    "curr.fetchall()"
   ]
  },
  {
   "cell_type": "code",
   "execution_count": null,
   "metadata": {},
   "outputs": [],
   "source": []
  }
 ],
 "metadata": {
  "kernelspec": {
   "display_name": "Python 3",
   "language": "python",
   "name": "python3"
  },
  "language_info": {
   "codemirror_mode": {
    "name": "ipython",
    "version": 3
   },
   "file_extension": ".py",
   "mimetype": "text/x-python",
   "name": "python",
   "nbconvert_exporter": "python",
   "pygments_lexer": "ipython3",
   "version": "3.7.6"
  }
 },
 "nbformat": 4,
 "nbformat_minor": 4
}
